{
 "cells": [
  {
   "cell_type": "code",
   "execution_count": 208,
   "id": "4d7d26bb-f709-4517-ad12-31d8e4de76e4",
   "metadata": {},
   "outputs": [
    {
     "name": "stdout",
     "output_type": "stream",
     "text": [
      "                                               title  \\\n",
      "0          Read this if you’re traveling to Negril!!   \n",
      "1                                 Negril Trip Report   \n",
      "2                          Wonderful trip to Jamaica   \n",
      "3                                     Negril beaches   \n",
      "4  What I wish I new about getting around in Jamaica   \n",
      "\n",
      "                                                                                                                                                                                                                                                                                                                                                                                                                                                                                                                                                                                                                                                                                                                                                                                                                                                                                                                                                                                                                                                                                                                                                                                                                                                                                                                                                                                                                                                                                                                                                                                                                                                                                                                                                                                                                                                                                                                                                                                                                                                                                                                                                                                                                                                                                                                                                                                                                                                                                                                                                                                                                                                                                                                                                                                                                                                                                                                                                                                                                                                                                                                                                                                                                                                                                                                                                                                                                                                                                                                                                                                                                                                                                                                                                                                                                                                                                                                                                                                                                                                                                                                                                                                                                                                                                                                                                                                                                                                                                                                                                                                                                                                                                                                                                                                                                                                                                                                                                                                                                                                                                                                                                                                                                                                                                                                                                                                                                                                                                                                                                                                                                                                                                                                                                                                                                                                                                                                                                                                                                                                                                                                                                                                                                                                                                                                                                                                                                                                                                                                                                                                                                                                                                                                                                                                                                                                                                                                                                                                                                                                                                                                                                                                                                                                                                                                                                                                                                                                                                                                                                                                                                                                                                                                                                                                                                                                                                                                                                                                                                                                    selftext  \\\n",
      "0                                                                                                                                                                                                                                                                                                                                                                                                                                                                                                                                                                                                                                                                                                                                                                                                                                                                                                                                                                                                                                                                                                                                                                                                                                                                                                                                                                                                                                                                                                                                                                                                                                                                                                                                                                                                                                                                                                                                                                                                                                                                                                                                                                                                                                                                                                                                                                                                                                                                                                                                                                                                                                                                                                                                                                                                                                                                                                                                                                                                                                                                                                                                                                                                                                                                                                                                                                                                                                                                                                                                                                                                                                                                                                                                                                                                                                                                                                                                                                                                                                                                                                                                                                                                                                                                                                                                                                                                                                                                                                                                                                                                                                                                                                                                                                                                                                                                                                                                                                                                                                                                                                                                                                                                                                                                                                                                                                                                                                                                                                                                                                                                                                                                                                                                                                                                                                                                                                                                                                                                                                                                                                                                                                                                                                                                                                                                                                                                                                                                                                                                                                                                                                                                                                                   I recently stayed at Coco La Palm in Negril, and it was an incredible experience that I can’t stop raving about. Two years ago, I stayed at the Royalton in Negril, which was luxurious—most of my time was spent eating, drinking, and relaxing within the resort. But this time, opting for a local hotel like Coco La Palm completely changed my perspective. If you haven’t stayed in a regular hotel in Negril, you’re missing out—it’s the best way to immerse yourself in Jamaican culture and soak up the magic of the 7-mile beach every day.\\n\\nWe dove into the local scene, hitting up beach parties, bars, and reggae concerts, and met so many amazing people along the way. One local we befriended (now a close friend!) hooked us up with four affordable excursions and took us to the best hole-in-the-wall restaurants. Trust me, skip the all-inclusives in Negril—save your money and go for a beachfront hotel instead. I’ve done both, and the local vibe wins hands down.\\n\\nAnd to anyone worried about safety: I was bar-hopping with friends until 2 a.m. without a single issue. Use common sense, and you’ll be fine—Negril felt completely safe to me. Sure, no place is 100% risk-free, but the “danger” people talk about is way overblown. Book that trip, ditch the resort bubble, and live a little!   \n",
      "1  (Leaving this report in hopes of helping someone in the future, since you were all so helpful in planning our visit. Other travel subs ask for trip reports to avoid repeating the same advice, so maybe this sub may enjoy something like that.)\\n\\nUs: young American family with kids 6 & 8, very experienced travelers, in the Negril area for 2 weeks end of December/beginning of January. \\n\\nWe absolutely loved Negril. We went back and forth between the beach and the west end daily when we stayed in town, with some forays into the center. The landscape is incredibly beautiful. People are friendly and kind. There has been quite a bit of development and foreign investment, but it still has a relaxed fishing town vibe and it’s not too built up—do NOT tell your Tulum friends please!  We were generally among a mix of locals and tourists, which was refreshing for a tourist hot spot. They don’t restrict beach access and there are many local microbusinesses everywhere, which is so different from, say, Mexico or Puerto Rico, and makes the adventure less icky and more mutually beneficial. \\n\\n7 mile beach has earned its reputation as one of the finest in the world. In a word: perfect. Warm, gorgeous, gentle…the whole thing. The beach sellers are convenient, if pushy: the kids loved buying fresh fruit from Rasta women and dancing to the buskers playing Jimmy Cliff and Bob Marley all day, we enjoyed patties for lunch and coconut pies for dessert, and most of our souvenirs were bought from basket-makers and carvers on the beach. A lot has been said about their pushiness, and it can get annoying if you’ve got somewhere to be; I found that being very polite but firm in my “thank you not today” helped, as well as patronizing Rastas as much as possible, who are very chill.  My husband had a harder time going anywhere because of constant approaches to buy drugs, unless he had a kid with him. It’s a pushier vibe than Mexico but never felt scary or even particularly impolite.  In general I would prefer to contribute directly to locals’ living expenses instead of the investment portfolio of a multinational hospitality chain, so I was happy for the opportunity to buy things from lots of people instead of a hotel, which also meant many interesting conversations about their lives and livelihoods, so I think we all benefited.\\n\\nThe cliffs are beautiful and much quieter at night, although still plenty going on. The road is sketchy for walking but cabs aren’t expensive. The lighthouse was gorgeous. \\n\\nLodging: We kept it simple this trip and just stayed in 2 places: Samsara in the West End (meh, do not recommend) and Zimbali way out at Canaan Mountain near Little London (amazing).  We also spent a lot of beach time at Legends because it is part of Samsara (avoid).\\n\\nTransportation: after a lot of deliberation, we decided against renting a car on this trip, since we were only going a few places, and the roads in Jamaica are among the worst I’ve seen, plus the crime rate was a concern if we got lost.  This ended up being the right decision for us, as we saved over $1000 US by taking cabs, contributed directly to locals, learned a lot from our drivers (local context, history, regional differences, food, plants…), and got to go to some off-the-beaten-path gems that we wouldn’t have otherwise.\\n\\nBehavior: folks value talkative politeness and REALLY appreciated our efforts to reciprocate. Taking a minute to ask how they are in any interaction helped. With the Rastas in particular, asking about their gardens or their sleep was very appreciated, but even with waiters and cashiers taking a moment to acknowledge their personhood led to a lot of interesting moments and absolutely got me better deals everywhere I went. Generally people were just as interested in us as we were in them, especially once we found something in common.  We were shocked at some tourists’ behavior, especially European tourists but also Americans, some of whom seemed completely comfortable treating people like wallpaper and saw no issue with pushing past elderly people or young children. Likewise with tipping, it doesn’t have to be a lot to make a big difference in someone’s day.  We were disappointed at the lack of tips we saw from others so ended up increasing our tips quite a bit. Including 10% gratuity on bills is great but there’s no guarantee the service actually gets that money, and 10% of cheap as hell is still cheap as hell, so why not throw in an extra $10 and make someone’s day? Remember that we’re visiting their place (and we earn 5-10 times what someone in our same profession earns in Jamaica).\\n\\nActivities: we did some outings, all of which I recommend:\\n—We had a driver bring us to the Black River Crocodile Safari and YS falls for the day, which was an excellent trip. It gave us the opportunity to visit Black River a bit, which is an interesting historical town, plus a very enjoyable driving tour of the southwest, including grabbing awesome fried fish and bammy for dinner at the famous border strip near White House and various fruits from the farms and shacks in St Elizabeth. The pontoon boat ride was very scenic, if a little short, through gorgeous mangrove swamps and bullrushes with plenty of beautiful birds and crocodiles right around the boat. The crocodile nursery was a little depressing but it’s cool that they are raising and releasing them. YS falls was a beautiful waterfall with a series of pools that has been developed into an ecopark with natural fed swimming pools, a zip line, large lawns, a restaurant etc. It was not what we were expecting in terms of how developed it was, but it was very beautiful, perfect for a day of swimming, and full of locals when we went, which was a nice endorsement. My children were disappointed that the gift shop was full of Chinese schlock that I won’t buy but otherwise no one complained.  \\n—When we were at Zimbali we did the Rasta tour, a hike up the mountain with 2 Rastas to their house on a scenic vista, where they cooked us ital food and taught us about the plants and other interesting things; I am making this sound boring but it was easily one of the most fascinating things we have ever done as tourists. \\n—On the beach, the glass bottom boat and snorkeling was fun, effortless, and inexpensive, although probably the least amazing of the things we did (but if you’ve never snorkeled at a reef before, go go go).  \\n\\nFood: I could write 300 restaurant reviews, but we all have better things to do than write and read that. The synopsis is: I can’t imagine going all the way to Jamaica to eat hotel mediocrity at US prices and encourage you to check out the excellent food scene!  There are a million places to eat, ranging from extremely cheap to very expensive, and almost all of them are good. The best meal we ate was probably at Pushcart. The only mediocre meals we ate were at Samsara and Alfred’s. Basically everything was wonderful everywhere, although in all fairness we were mostly seeking out Jamaican food at reasonable prices in restaurants good enough for locals, so that may color my perceptions. \\n\\nFamily friendly: very friendly, almost as good as Hawaii and better than Mexico.  People were very kind and respectful to the children. The drug dealers didn’t bother us and no one hit on me when they were within earshot. My kids are experienced adventurers so they work to fit in where they are, but we felt welcomed everywhere, even when we brought them to bars and nicer restaurants. Zimbali and YS Falls were particularly chill.  Some of the beach is a more adult vibe but when we moved over to where the locals hang out there were plenty of kids and they made friends and even picked up a bit of patois.   \n",
      "2                                                                                                                                                                                                                                                                                                                                                                                                                                                                                                                                                                                                                                                                                                                                                                                                                                                                                                                                                                                                                                                                                                                                                                                                                                                                                                                                                                                                                                                                                                                                                                                                                                                                                                                                                                                                                                                                                                                                                                                                                                                                                                                                                                                                                                                                                                                                                                                                                                                                                                                                                                                                                                                                                                                                                                                                                                                                                                                                                                                                                                                                                                                                                                                                                                                                                                                                                                                                                                                                                                                                                                                                                                                                                                                                                                                                                                                                                                                                                                                                                                                                                                                                                                                                                                                                                                                                                                                                                                                                                                                                                                                                                                                                                                                                                                                                                                                                                                                                                                                                                                                                                                                                                                                                                                                                                                                                                                                                                                                                                                                                                                                                                                                                                                                                                                                                                                                                                                                                                                                                                                                                                                                                                                                                                                                                                                                                                                                                                                                                                                                                                                                                                                                                                                                                                                                                                                                                                                                                                                                                                                                                                                                                                                                                                                                                                                                                                                                                                                                                                                                                                                                                                                                                                                                                                                                                                                                                                                                                                                                                                                                 Beautiful.   \n",
      "3                                                                                                                                                                                                                                                                                                                                                                                                                                                                                                                                                                                                                                                                                                                                                                                                                                                                                                                                                                                                                                                                                                                                                                                                                                                                                                                                                                                                                                                                                                                                                                                                                                                                                                                                                                                                                                                                                                                                                                                                                                                                                                                                                                                                                                                                                                                                                                                                                                                                                                                                                                                                                                                                                                                                                                                                                                                                                                                                                                                                                                                                                                                                                                                                                                                                                                                                                                                                                                                                                                                                                                                                                                                                                                                                                                                                                                                                                                                                                                                                                                                                                                                                                                                                                                                                                                                                                                                                                                                                                                                                                                                                                                                                                                                                                                                                                                                                                                                                                                                                                                                                                                                                                                                                                                                                                                                                                                                                                                                                                                                                                                                                                                                                                                                                                                                                                                                                                                                                                                                                                                                                                                                                                                                                                                                                                                                                                                                                                                                                                                                                                                                                                                                                                                                                                                                                                                                                                                                                                                                                                                                                                                                                                                                                                                                                                                                                                                                                                                                                                                                                                                                                                                                                                                                                                                                                                                                                                                                                                                                                                                                        NaN   \n",
      "4                                                                                                                                                                                                                                                                                                                                                                                                                                                                                                                                                                                                                                                                                                                                                                                                                                                                                                                                                                                                                                                                                                                                                                                                                                                                                                                                                                                                                                                                                                                                                                                                                                                                                                                                                                                                                                                                                                                                                                                                                                                                                                                                                                                                                                                                                 This is what I learned about getting around in Jamaica. Please note that I am not Jamaican and I only spent 15 days there, but we would have seen a lot more if we had known this before getting there.\\n\\n**Taxis**\\n\\nA lot of sources will tell you to only take red plate taxis, and some will specify JUTA taxis. But they won’t tell you why, or that there is a difference.\\n\\nSo:\\n\\n* White plates: regular private vehicles\\n* Red plates: Buses & taxis\\n* Green plates: Commercial vehicles\\n\\nSo if your hotel shuttle has a green plate, don’t worry, it makes sense. It means that it only shuttles clients back and forth and doesn’t pick people up from the street.\\n\\nJUTA (Jamaica Union of Travellers Association ) means that this taxi is licensed to pick up tourists. Usually it means that they will quote you prices in USD, usually 20 or occasionally 10USD for local destinations and it can be up to 200USD or more if you want to get far away, for example from Negril directly to Treasure Beach.\\n\\nThese are chartered taxis and they will pick you up and take you directly there. They will not pick up other passengers. Usually JUTA is written somewhere on the taxi and I also have seen some have a Chartered sign in the windshield. They are often but not always the ones who will hustle you the most if you are in a touristy area.\\n\\nRoute Taxis also have a red plate but are not meant for tourists. They often have small text on the sides, in front the the front door that say where they operate but the likeliness of you being able to read these while they zip past is very low.\\n\\nRoute taxis basically go back and forth between 2 fixed points and pick up and let out people along the way. They will pick up as many people as they can fit, and often, they will fit more than you think possible. They have fixed starting and ending points, usually a gas station or a plaza and that end point can be start point of another route so you can hop off one and get on with the next leg of your journey. \\[Edit- I was told it was not the reason: >!My understanding is that they could get in trouble for picking up tourists and.!<..\\] we have been asked to get out a block before the end point because police were around.\\n\\nYou can also get on by standing on the sidewalk somewhere along their way and waving at them. Be sure to ask for a price before you get in and confirm destination to be sure they don’t try to make you pay chartered rates. I have paid anywhere from 140 to 360 JMD per person per segment, 200 is average.\\n\\nFor some reason, they will ask you where you are going and will resist telling you where THEY are going, which I found really weird, especially when I wanted to know what the end of the route was because I wasn’t sure. They are always in a hurry, because they don’t make money when they don’t pick up people. Sometimes a JUTA taxi may pick you up for Route taxi rate because they are empty, we even had a kind gentleman (hi Mike!) give us a free ride because he was running an errand while waiting for his chartered clients who were partying at Rick’s café.\\n\\n**Local Buses**\\n\\nBuses have a similar concept except they are bigger, fit more people and go further. They also can have different starting and end points than route taxis.\\n\\nFor example, you might have a bus that goes from Ocho Rios to MoBay but by route taxi you will have to do Ochi-Discovery Bay, D-Bay-Falmouth and Falmouth-MoBay for the same result. The main difference is the waiting time at each transfer.\\n\\nWhen you get to a starting point, a lot of people will hustle you and try to make you get in. It’s worth having a look at their taxi to see if people are already sitting in it. The faster it fills in, the faster it leaves.\\n\\nIf you have trouble figuring out starting points, routes and rates, try asking hostel/resort employees or other sympathetic passerby. We got great tips from a guy getting off a bus and seeing all buses we were trying to flag down were full. He’s the one who told us about the route taxi alternative back to MoBay. Locals can also tell you about tips, such as some places where you need to point towards your destination because there are 2 bus routes that go by and they won’t stop if you point to the destination where they aren’t going. I have also had locals warm up to me considerably when I asked about route taxis because they see you aren’t snotty and trying to avoid the locals.\\n\\n**Knutsford Express**\\n\\nThey have a website, you can see how many seats are left, you buy your tickets, you show up 30 minutes in advance, they will load your luggage under the carriage. Comfy, has bathroom, A/C, wifi may or may not work. Even when it said that there were no seats left I never say it really full.\\n\\nIf I was going pretty far, say MoBay/Kingston, I would 100% take the Knutsford, it’s pretty affordable and worry-free.\\n\\nIt may seem like they don’t go to your destination but pull out your map and compare the map with the destinations in the drop down (the site has no map and it’s kinda bare.) For example, the destination for Ocho Rios is called Drax Hall, not Ocho Rios and no Ocho Rios RIU. You can take a route taxi from Drax Hall to downtown Ochi easy peasy or take a chartered taxi if you aren’t ready for route taxis yet.\\n\\nI have to note that we did this as 2 people with 2 backpacks each (1 carry on size, 1 personal item size) and I am not sure I would try route taxi hopping with full sized suitcases.\\n\\nI hope this helps. And if anyone has corrections to make, I would like to read them.   \n",
      "\n",
      "   score  num_comments  \\\n",
      "0     72            29   \n",
      "1     35            30   \n",
      "2     34             4   \n",
      "3     29             5   \n",
      "4     27             9   \n",
      "\n",
      "                                                                                                           url  \n",
      "0             https://www.reddit.com/r/JamaicaTourism/comments/1jdmq9c/read_this_if_youre_traveling_to_negril/  \n",
      "1                                 https://www.reddit.com/r/JamaicaTourism/comments/1huo72a/negril_trip_report/  \n",
      "2                                                                       https://www.reddit.com/gallery/1bcfpt5  \n",
      "3                                                                       https://www.reddit.com/gallery/1jlt33z  \n",
      "4  https://www.reddit.com/r/JamaicaTourism/comments/1cqazjw/what_i_wish_i_new_about_getting_around_in_jamaica/  \n"
     ]
    },
    {
     "name": "stderr",
     "output_type": "stream",
     "text": [
      "[nltk_data] Downloading package punkt to\n",
      "[nltk_data]     C:\\Users\\tahjg\\AppData\\Roaming\\nltk_data...\n",
      "[nltk_data]   Package punkt is already up-to-date!\n"
     ]
    }
   ],
   "source": [
    "import pandas as pd\n",
    "import re\n",
    "import unicodedata\n",
    "import nltk\n",
    "import string\n",
    "nltk.download('punkt') # got an error earlier, this is how it was resolved.\n",
    "from nltk.tokenize import word_tokenize\n",
    "from nltk.corpus import stopwords\n",
    "from nltk.stem import PorterStemmer\n",
    "from spellchecker import SpellChecker\n",
    "\n",
    "ja_df = pd.read_csv('jamaica_tourism_data.csv');\n",
    "# pd.set_option('display.max_columns', None)\n",
    "# pd.set_option('display.max_rows', None)\n",
    "print(ja_df.head())"
   ]
  },
  {
   "cell_type": "code",
   "execution_count": 209,
   "id": "5c0a2288-02a6-4c88-91e8-26b0c61945df",
   "metadata": {},
   "outputs": [],
   "source": [
    "pd.set_option(\"display.max_colwidth\", None)\n",
    "#ja_df.title.tolist()\n",
    "#ja_df.selftext"
   ]
  },
  {
   "cell_type": "markdown",
   "id": "1acf094e-3dd7-4bf1-838b-90bca4717b0c",
   "metadata": {},
   "source": [
    "# Cleaning Data"
   ]
  },
  {
   "cell_type": "code",
   "execution_count": 211,
   "id": "8cf1b7c1-ed2e-4c59-aa39-a53af0df39e2",
   "metadata": {},
   "outputs": [],
   "source": [
    "#Clean the text so that we don't input dirty data to the model, reduce noise as best as possible.\n",
    "def clean_text(text):\n",
    "    if pd.isna(text):\n",
    "        return \"\"\n",
    "     # Initialize spell checker\n",
    "    spell = SpellChecker()\n",
    "     # Normalize Unicode characters\n",
    "    text = unicodedata.normalize('NFKD', text).encode('ascii', 'ignore').decode('ascii')\n",
    "     # Remove URLs\n",
    "    text = re.sub(r'http\\S+', '', text)\n",
    "    text = text.replace(\"\\n\\n\", \" \")  # Remove double line breaks\n",
    "    text = text.replace(\"\\n\", \" \")  # Remove any remaining single line breaks\n",
    "     # Remove punctuation\n",
    "    text = text.translate(str.maketrans('', '', string.punctuation))\n",
    "    \n",
    "    # Remove extra spaces\n",
    "    text = ' '.join(text.split())\n",
    "    \n",
    "    # Convert text to lowercase\n",
    "    text = text.lower()\n",
    "     \n",
    "    # Remove extra whitespaces and trim\n",
    "    text = re.sub(r'\\s+', ' ', text).strip()\n",
    "    return text"
   ]
  },
  {
   "cell_type": "code",
   "execution_count": 212,
   "id": "e5b6c2d8-b5db-4aec-b4f5-5885e2720ebb",
   "metadata": {},
   "outputs": [],
   "source": [
    "# Tokenization is the process of splitting text into smaller units (words, sentences, or subwords).\n",
    "#This helps the model understand individual words rather than treating the whole text as one big chunk.\n",
    "def standardize_text(text):\n",
    "    #tokenize text\n",
    "    tokens = word_tokenize(text.lower()) #lowercase all words\n",
    "    # Remove stop words\n",
    "    stop_words = set(stopwords.words('english'))\n",
    "    tokens = [word for word in tokens if word not in stop_words]\n",
    "    \n",
    "    return tokens\n",
    "    "
   ]
  },
  {
   "cell_type": "code",
   "execution_count": 213,
   "id": "43390163-b038-42b3-863d-00e27ebea379",
   "metadata": {},
   "outputs": [],
   "source": [
    "#Stemming reduces words to their root form so that similar words are treated the same.\n",
    "#This helps the model generalize better instead of seeing \"running\" and \"run\" as two different words.\n",
    "def stem_tokens(tokens):\n",
    "    stemmer = PorterStemmer()\n",
    "    return [stemmer.stem(word) for word in tokens]\n"
   ]
  },
  {
   "cell_type": "code",
   "execution_count": 214,
   "id": "b01c865c-cb68-43a6-800f-eca044d9b820",
   "metadata": {},
   "outputs": [
    {
     "data": {
      "text/plain": [
       "title             0\n",
       "selftext        114\n",
       "score             0\n",
       "num_comments      0\n",
       "url               0\n",
       "dtype: int64"
      ]
     },
     "execution_count": 214,
     "metadata": {},
     "output_type": "execute_result"
    }
   ],
   "source": [
    "ja_df.isnull().sum()"
   ]
  },
  {
   "cell_type": "code",
   "execution_count": 215,
   "id": "2a7e3de3-2519-4939-b7a5-b097c5470c2f",
   "metadata": {},
   "outputs": [
    {
     "data": {
      "text/plain": [
       "title           object\n",
       "selftext        object\n",
       "score            int64\n",
       "num_comments     int64\n",
       "url             object\n",
       "dtype: object"
      ]
     },
     "execution_count": 215,
     "metadata": {},
     "output_type": "execute_result"
    }
   ],
   "source": [
    "ja_df.dtypes"
   ]
  },
  {
   "cell_type": "code",
   "execution_count": 216,
   "id": "d4af597f-3e20-43c1-98ee-5ab0130e3c7b",
   "metadata": {},
   "outputs": [],
   "source": [
    "#ja_df[ja_df.selftext.isna()]"
   ]
  },
  {
   "cell_type": "code",
   "execution_count": 217,
   "id": "7ca86203-4604-42e4-a139-08770c070bba",
   "metadata": {},
   "outputs": [],
   "source": [
    "ja_df = ja_df.dropna(subset=['selftext'])"
   ]
  },
  {
   "cell_type": "code",
   "execution_count": 218,
   "id": "11c9acf8-fd65-4301-b5ee-add9f1ab7296",
   "metadata": {},
   "outputs": [
    {
     "data": {
      "text/plain": [
       "title           0\n",
       "selftext        0\n",
       "score           0\n",
       "num_comments    0\n",
       "url             0\n",
       "dtype: int64"
      ]
     },
     "execution_count": 218,
     "metadata": {},
     "output_type": "execute_result"
    }
   ],
   "source": [
    "ja_df.isna().sum()"
   ]
  },
  {
   "cell_type": "code",
   "execution_count": 219,
   "id": "a1ccbe2c-061d-4f24-a6d1-8d1513769b79",
   "metadata": {},
   "outputs": [
    {
     "name": "stderr",
     "output_type": "stream",
     "text": [
      "[nltk_data] Downloading package punkt to\n",
      "[nltk_data]     C:\\Users\\tahjg\\AppData\\Roaming\\nltk_data...\n",
      "[nltk_data]   Package punkt is already up-to-date!\n",
      "[nltk_data] Downloading package punkt_tab to\n",
      "[nltk_data]     C:\\Users\\tahjg\\AppData\\Roaming\\nltk_data...\n",
      "[nltk_data]   Package punkt_tab is already up-to-date!\n",
      "[nltk_data] Downloading package stopwords to\n",
      "[nltk_data]     C:\\Users\\tahjg\\AppData\\Roaming\\nltk_data...\n",
      "[nltk_data]   Package stopwords is already up-to-date!\n"
     ]
    },
    {
     "data": {
      "text/plain": [
       "True"
      ]
     },
     "execution_count": 219,
     "metadata": {},
     "output_type": "execute_result"
    }
   ],
   "source": [
    "import nltk\n",
    "nltk.download('punkt')\n",
    "nltk.download('punkt_tab')\n",
    "nltk.download('stopwords')"
   ]
  },
  {
   "cell_type": "code",
   "execution_count": 220,
   "id": "f3341a47-2b60-4422-a960-f80bc7f8d3b7",
   "metadata": {},
   "outputs": [],
   "source": [
    "ja_df['selftext'] = ja_df['selftext'].apply(clean_text)\n",
    "ja_df['title'] = ja_df['title'].apply(clean_text)  \n",
    "ja_df['tokens'] = ja_df['selftext'].apply(standardize_text)\n",
    "ja_df['clean_tokens'] = ja_df['tokens'].apply(stem_tokens)\n"
   ]
  },
  {
   "cell_type": "code",
   "execution_count": null,
   "id": "38bd1158",
   "metadata": {},
   "outputs": [],
   "source": [
    "ja_df.to_csv('cleaned_jamaica_tourism_data.csv', index=False)\n"
   ]
  },
  {
   "cell_type": "code",
   "execution_count": 305,
   "id": "747a023e-7f87-4ccf-ad3c-ee8eafa754dd",
   "metadata": {},
   "outputs": [],
   "source": [
    "#ja_df.selftext"
   ]
  },
  {
   "cell_type": "markdown",
   "id": "3c10aca3-0a7f-413c-9067-f2b2f72032fd",
   "metadata": {},
   "source": [
    "# Creating Embeddings"
   ]
  },
  {
   "cell_type": "code",
   "execution_count": 243,
   "id": "ea8af091-4858-4037-a55d-2ea246899dc9",
   "metadata": {},
   "outputs": [],
   "source": [
    "from transformers import BertTokenizer, BertModel\n",
    "import torch\n",
    "# Turning title and comments into embeddings\n",
    "# Load pre-trained BERT model and tokenizer\n",
    "tokenizer = BertTokenizer.from_pretrained('bert-base-uncased')\n",
    "model = BertModel.from_pretrained('bert-base-uncased')\n",
    "\n",
    "def get_bert_embeddings(text):\n",
    "    # Tokenize and get model output\n",
    "    inputs = tokenizer(text, return_tensors='pt', truncation=True, padding=True)\n",
    "    with torch.no_grad():\n",
    "        outputs = model(**inputs)\n",
    "    return outputs.last_hidden_state.mean(dim=1).squeeze().numpy()  # Use the mean of the hidden states\n",
    "\n",
    "# Get BERT embeddings for titles and comments\n",
    "ja_df['title_embeddings'] = ja_df['title'].apply(get_bert_embeddings)\n",
    "ja_df['selftext_embeddings'] = ja_df['selftext'].apply(get_bert_embeddings)\n"
   ]
  },
  {
   "cell_type": "code",
   "execution_count": 245,
   "id": "02f5dcd2-917c-4a69-b00c-1f280a1af033",
   "metadata": {},
   "outputs": [
    {
     "data": {
      "text/plain": [
       "Index(['title', 'selftext', 'score', 'num_comments', 'url', 'tokens',\n",
       "       'clean_tokens', 'title_embeddings', 'selftext_embeddings',\n",
       "       'tokens_string'],\n",
       "      dtype='object')"
      ]
     },
     "execution_count": 245,
     "metadata": {},
     "output_type": "execute_result"
    }
   ],
   "source": [
    "ja_df.columns"
   ]
  },
  {
   "cell_type": "code",
   "execution_count": 255,
   "id": "b4f4823b-794f-42f0-be5b-7d0b3d5261b7",
   "metadata": {},
   "outputs": [
    {
     "name": "stdout",
     "output_type": "stream",
     "text": [
      "(686,)\n",
      "(686,)\n",
      "(686, 4851)\n"
     ]
    }
   ],
   "source": [
    "print(ja_df['title_embeddings'].values.shape)\n",
    "print(ja_df['selftext_embeddings'].values.shape)\n",
    "print(dense_tfidf_matrix.shape)"
   ]
  },
  {
   "cell_type": "code",
   "execution_count": 257,
   "id": "b839bfed-c7b6-428c-bd2e-0c3b6a298485",
   "metadata": {},
   "outputs": [],
   "source": [
    "title_embeddings_reshaped = ja_df['title_embeddings'].values.reshape(-1, 1)\n",
    "selftext_embeddings_reshaped = ja_df['selftext_embeddings'].values.reshape(-1, 1)\n"
   ]
  },
  {
   "cell_type": "code",
   "execution_count": 263,
   "id": "67dded26-8a00-4cfa-bcad-bbd991f1e944",
   "metadata": {},
   "outputs": [
    {
     "name": "stdout",
     "output_type": "stream",
     "text": [
      "(686, 1)\n",
      "(686, 1)\n",
      "(686, 4851)\n"
     ]
    }
   ],
   "source": [
    "print(title_embeddings_reshaped.shape)\n",
    "print(selftext_embeddings_reshaped.shape)\n",
    "print(dense_tfidf_matrix.shape)"
   ]
  },
  {
   "cell_type": "code",
   "execution_count": 269,
   "id": "424089fb-17f9-4d76-aff9-35c98b0d9e48",
   "metadata": {},
   "outputs": [],
   "source": [
    "import numpy as np\n",
    "\n",
    "# Concatenate the embeddings for title, comments, and tokens\n",
    "combined_embeddings = np.concatenate([title_embeddings_reshaped, \n",
    "                                     selftext_embeddings_reshaped, \n",
    "                                     dense_tfidf_matrix], axis=1)\n"
   ]
  },
  {
   "cell_type": "code",
   "execution_count": 275,
   "id": "16a99492-369d-45f8-b5d8-1a57e9147e06",
   "metadata": {},
   "outputs": [
    {
     "name": "stdout",
     "output_type": "stream",
     "text": [
      "(686, 4853)\n"
     ]
    }
   ],
   "source": [
    "print(combined_embeddings.shape)\n"
   ]
  },
  {
   "cell_type": "code",
   "execution_count": 281,
   "id": "5eab88b2-6570-444c-9e70-b560f6e5052d",
   "metadata": {},
   "outputs": [],
   "source": [
    "# Ensure the embeddings are in numpy array format\n",
    "combined_embeddings = np.array(combined_embeddings)\n",
    "## Didn't bother using the combined_embeddings. Maybe another time. The code below is where I created the embeddings I actually used."
   ]
  },
  {
   "cell_type": "markdown",
   "id": "96a9511a-0a86-4c30-9d14-c685ceb8b51e",
   "metadata": {},
   "source": [
    "# Make recommendations"
   ]
  },
  {
   "cell_type": "code",
   "execution_count": 361,
   "id": "cd7352cd-573e-42d9-9a99-ec93bd92400b",
   "metadata": {},
   "outputs": [
    {
     "name": "stdout",
     "output_type": "stream",
     "text": [
      "Generating embeddings...\n"
     ]
    }
   ],
   "source": [
    "import ollama\n",
    "import numpy as np\n",
    "import pandas as pd\n",
    "import faiss\n",
    "from transformers import BertTokenizer, BertModel\n",
    "import torch\n",
    "\n",
    "# Initialize BERT for embeddings\n",
    "tokenizer = BertTokenizer.from_pretrained('bert-base-uncased')\n",
    "model = BertModel.from_pretrained('bert-base-uncased')\n",
    "\n",
    "def get_bert_embeddings(text):\n",
    "    inputs = tokenizer(text, return_tensors='pt', truncation=True, padding=True, max_length=512)\n",
    "    with torch.no_grad():\n",
    "        outputs = model(**inputs)\n",
    "    return outputs.last_hidden_state.mean(dim=1).squeeze().numpy()\n",
    "\n",
    "\n",
    "# Generate embeddings for all posts\n",
    "print(\"Generating embeddings...\")\n",
    "ja_df['embedding'] = ja_df['title'] + \" \" + ja_df['selftext'].fillna('')\n",
    "ja_df['embedding'] = ja_df['embedding'].apply(lambda x: get_bert_embeddings(x[:1000]))  # Truncate long posts\n",
    "\n",
    "# Build FAISS index\n",
    "embeddings = np.stack(ja_df['embedding'].values).astype('float32')\n",
    "index = faiss.IndexFlatL2(embeddings.shape[1])\n",
    "index.add(embeddings)\n",
    "\n",
    "def generate_llama_recommendation(query, top_k=3):\n",
    "    # Get similar posts using FAISS\n",
    "    query_embedding = get_bert_embeddings(query).astype('float32').reshape(1, -1)\n",
    "    distances, indices = index.search(query_embedding, top_k)\n",
    "    \n",
    "    # Prepare context for LLM\n",
    "    context = \"\\n\\n\".join(\n",
    "        f\"Title: {ja_df.iloc[idx]['title']}\\nContent: {ja_df.iloc[idx]['selftext'][:500]}\"\n",
    "        for idx in indices[0]\n",
    "    )\n",
    "    \n",
    "    # Generate with Llama 3\n",
    "    prompt = f\"\"\"\n",
    "    You are a Jamaica travel expert. Based on these posts, suggest 3 best options to answer the traveler's question.\n",
    "    Start off wiht a greeting by saying \"Wah Gwaan?\"\n",
    "     Whenever you're finished, say that this was developed by Tahj Gordon.\n",
    "    Traveler's question: {query}\n",
    "    \n",
    "    Relevant posts:\n",
    "    {context}\n",
    "    \n",
    "    Provide recommendations in this format:\n",
    "    1. [Place/Activity]: [Brief description - why it's good for what they asked]\n",
    "    2. [Place/Activity]: [Description]\n",
    "    3. [Place/Activity]: [Description]\n",
    "    \n",
    "    Add practical tips if available.\n",
    "    \"\"\"\n",
    "    \n",
    "    response = ollama.generate(\n",
    "        model='llama3.2',\n",
    "        prompt=prompt,\n",
    "        options={'temperature': 0.7}\n",
    "    )\n",
    "    \n",
    "    return response['response']\n",
    "\n"
   ]
  },
  {
   "cell_type": "code",
   "execution_count": 362,
   "id": "1b8404c8-b8b0-4eec-ad18-5bfcf50e3d82",
   "metadata": {},
   "outputs": [
    {
     "name": "stdout",
     "output_type": "stream",
     "text": [
      "Wah Gwaan?\n",
      "\n",
      "Based on your interest in driving around Jamaica, I've got three top recommendations to get you behind the wheel:\n",
      "\n",
      "1. **Rent a car with an automatic transmission**: This is the most convenient option for navigating Jamaica's roads, especially if you're not comfortable with manual transmissions. Many major rental companies like Hertz, Avis, and Budget offer cars with automatics.\n",
      "2. **Book a private driver or chauffeur**: If you prefer not to drive yourself, consider booking a private driver for your 5-day trip. This option allows you to sit back, relax, and enjoy the scenery while someone else handles the driving. You can find private drivers through companies like Island Car Rental or local tourism boards.\n",
      "3. **Use public transportation**: Jamaica's public transportation system is affordable and accessible. For shorter trips, buses (called \"buses\" locally) are a great way to get around. You can also take taxis or ride-hailing services like Uber.\n",
      "\n",
      "Practical tips:\n",
      "\n",
      "* Make sure to obtain an International Driving Permit (IDP) if your home country's license isn't recognized in Jamaica.\n",
      "* Be prepared for narrow, winding roads and aggressive drivers.\n",
      "* Consider purchasing travel insurance that covers vehicle damage or theft.\n",
      "* Don't drink and drive - Jamaica has strict laws against drunk driving.\n",
      "\n",
      "This was developed by Tahj Gordon.\n"
     ]
    }
   ],
   "source": [
    "query = \"How will I drive in Jamaica?\"\n",
    "print(generate_llama_recommendation(query))\n"
   ]
  },
  {
   "cell_type": "code",
   "execution_count": null,
   "id": "c82966aa-3dec-4663-9116-832a45d0503c",
   "metadata": {},
   "outputs": [],
   "source": []
  }
 ],
 "metadata": {
  "kernelspec": {
   "display_name": "Python [conda env:base] *",
   "language": "python",
   "name": "conda-base-py"
  },
  "language_info": {
   "codemirror_mode": {
    "name": "ipython",
    "version": 3
   },
   "file_extension": ".py",
   "mimetype": "text/x-python",
   "name": "python",
   "nbconvert_exporter": "python",
   "pygments_lexer": "ipython3",
   "version": "3.12.7"
  }
 },
 "nbformat": 4,
 "nbformat_minor": 5
}
